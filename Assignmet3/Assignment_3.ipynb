{
  "nbformat": 4,
  "nbformat_minor": 0,
  "metadata": {
    "colab": {
      "provenance": [],
      "gpuType": "T4"
    },
    "kernelspec": {
      "name": "python3",
      "display_name": "Python 3"
    },
    "language_info": {
      "name": "python"
    },
    "accelerator": "GPU",
    "gpuClass": "standard"
  },
  "cells": [
    {
      "cell_type": "code",
      "execution_count": 41,
      "metadata": {
        "colab": {
          "base_uri": "https://localhost:8080/",
          "height": 35
        },
        "id": "9qjn282GbOKr",
        "outputId": "bb59b69b-4f3f-44ca-fca8-eccbae8e2b64"
      },
      "outputs": [
        {
          "output_type": "execute_result",
          "data": {
            "text/plain": [
              "'2.12.0'"
            ],
            "application/vnd.google.colaboratory.intrinsic+json": {
              "type": "string"
            }
          },
          "metadata": {},
          "execution_count": 41
        }
      ],
      "source": [
        "\n",
        "import keras\n",
        "keras.__version__"
      ]
    },
    {
      "cell_type": "code",
      "source": [
        "from keras.layers import Embedding\n",
        "\n",
        "# The Embedding layer takes at least two arguments:\n",
        "# the number of possible tokens, here 1000 (1 + maximum word index),\n",
        "# and the dimensionality of the embeddings, here 64.\n",
        "embedding_layer = Embedding(1000, 64)\n",
        "     "
      ],
      "metadata": {
        "id": "8S8w8HCrbbSI"
      },
      "execution_count": 42,
      "outputs": []
    },
    {
      "cell_type": "code",
      "source": [
        "\n",
        "from keras.datasets import imdb\n",
        "from keras import preprocessing\n",
        "from keras import utils as np_utils\n",
        "#from tensorflow.keras.preprocessing.sequence import pad_sequences\n",
        "#from keras.utils import pad_sequences\n",
        "from keras.utils.data_utils import pad_sequences\n",
        "# Number of words to consider as features\n",
        "max_features = 10000\n",
        "# Cut texts after this number of words \n",
        "# (among top max_features most common words)\n",
        "maxlen = 150\n",
        "\n",
        "# Load the data as lists of integers.\n",
        "(x_train, y_train), (x_test, y_test) = imdb.load_data(num_words=max_features)\n",
        "\n",
        "# This turns our lists of integers\n",
        "# into a 2D integer tensor of shape `(samples, maxlen)`\n",
        "x_train = keras.utils.pad_sequences(x_train, maxlen=maxlen)\n",
        "x_test = keras.utils.pad_sequences(x_test, maxlen=maxlen)\n",
        "     "
      ],
      "metadata": {
        "id": "g5Sb4dkWbdts"
      },
      "execution_count": 43,
      "outputs": []
    },
    {
      "cell_type": "code",
      "source": [
        "print(len(x_train))"
      ],
      "metadata": {
        "colab": {
          "base_uri": "https://localhost:8080/",
          "height": 0
        },
        "id": "Z9h_ti27fvw9",
        "outputId": "d0458d7a-b84a-4710-c846-4c0c6127d770"
      },
      "execution_count": 44,
      "outputs": [
        {
          "output_type": "stream",
          "name": "stdout",
          "text": [
            "25000\n"
          ]
        }
      ]
    },
    {
      "cell_type": "code",
      "source": [
        "import numpy as np\n",
        "from keras.models import Sequential\n",
        "from keras.layers import Flatten, Dense\n",
        "\n",
        "model = Sequential()\n",
        "# We specify the maximum input length to our Embedding layer\n",
        "# so we can later flatten the embedded inputs\n",
        "model.add(Embedding(10000, 8, input_length=maxlen))\n",
        "# After the Embedding layer, \n",
        "# our activations have shape `(samples, maxlen, 8)`.\n",
        "\n",
        "# We flatten the 3D tensor of embeddings \n",
        "# into a 2D tensor of shape `(samples, maxlen * 8)`\n",
        "model.add(Flatten())\n",
        "\n",
        "# We add the classifier on top\n",
        "model.add(Dense(1, activation='sigmoid'))\n",
        "model.compile(optimizer='rmsprop', loss='binary_crossentropy', metrics=['acc'])\n",
        "model.summary()\n",
        "\n",
        "history = model.fit(x_train, y_train,\n",
        "                    epochs=10,\n",
        "                    batch_size=32,\n",
        "                    validation_split=0.2)"
      ],
      "metadata": {
        "colab": {
          "base_uri": "https://localhost:8080/",
          "height": 0
        },
        "id": "W1bUDCvmf-xA",
        "outputId": "144e3b68-92b8-4432-c4b8-2ab7b1998072"
      },
      "execution_count": 45,
      "outputs": [
        {
          "output_type": "stream",
          "name": "stdout",
          "text": [
            "Model: \"sequential_8\"\n",
            "_________________________________________________________________\n",
            " Layer (type)                Output Shape              Param #   \n",
            "=================================================================\n",
            " embedding_11 (Embedding)    (None, 150, 8)            80000     \n",
            "                                                                 \n",
            " flatten_8 (Flatten)         (None, 1200)              0         \n",
            "                                                                 \n",
            " dense_10 (Dense)            (None, 1)                 1201      \n",
            "                                                                 \n",
            "=================================================================\n",
            "Total params: 81,201\n",
            "Trainable params: 81,201\n",
            "Non-trainable params: 0\n",
            "_________________________________________________________________\n",
            "Epoch 1/10\n",
            "625/625 [==============================] - 27s 41ms/step - loss: 0.5914 - acc: 0.7071 - val_loss: 0.4237 - val_acc: 0.8256\n",
            "Epoch 2/10\n",
            "625/625 [==============================] - 7s 11ms/step - loss: 0.3310 - acc: 0.8651 - val_loss: 0.3211 - val_acc: 0.8652\n",
            "Epoch 3/10\n",
            "625/625 [==============================] - 4s 7ms/step - loss: 0.2582 - acc: 0.8963 - val_loss: 0.3031 - val_acc: 0.8730\n",
            "Epoch 4/10\n",
            "625/625 [==============================] - 3s 5ms/step - loss: 0.2229 - acc: 0.9134 - val_loss: 0.3024 - val_acc: 0.8712\n",
            "Epoch 5/10\n",
            "625/625 [==============================] - 4s 7ms/step - loss: 0.1979 - acc: 0.9254 - val_loss: 0.3042 - val_acc: 0.8722\n",
            "Epoch 6/10\n",
            "625/625 [==============================] - 3s 5ms/step - loss: 0.1782 - acc: 0.9338 - val_loss: 0.3102 - val_acc: 0.8694\n",
            "Epoch 7/10\n",
            "625/625 [==============================] - 3s 5ms/step - loss: 0.1599 - acc: 0.9426 - val_loss: 0.3176 - val_acc: 0.8696\n",
            "Epoch 8/10\n",
            "625/625 [==============================] - 3s 4ms/step - loss: 0.1424 - acc: 0.9495 - val_loss: 0.3258 - val_acc: 0.8694\n",
            "Epoch 9/10\n",
            "625/625 [==============================] - 3s 4ms/step - loss: 0.1256 - acc: 0.9581 - val_loss: 0.3365 - val_acc: 0.8656\n",
            "Epoch 10/10\n",
            "625/625 [==============================] - 4s 6ms/step - loss: 0.1099 - acc: 0.9640 - val_loss: 0.3530 - val_acc: 0.8630\n"
          ]
        }
      ]
    },
    {
      "cell_type": "code",
      "source": [
        "from google.colab import drive\n",
        "drive.mount('/content/gdrive')\n",
        "     "
      ],
      "metadata": {
        "colab": {
          "base_uri": "https://localhost:8080/",
          "height": 0
        },
        "id": "WQztJV4S2Jc6",
        "outputId": "dc4b3374-e0da-4ef3-f4b5-ac1062f7ee1a"
      },
      "execution_count": 46,
      "outputs": [
        {
          "output_type": "stream",
          "name": "stdout",
          "text": [
            "Drive already mounted at /content/gdrive; to attempt to forcibly remount, call drive.mount(\"/content/gdrive\", force_remount=True).\n"
          ]
        }
      ]
    },
    {
      "cell_type": "code",
      "source": [
        "import os\n",
        "import shutil\n",
        "%mkdir ../data\n",
        "!wget -O ../data/aclImdb_v1.tar.gz http://ai.stanford.edu/~amaas/data/sentiment/aclImdb_v1.tar.gz\n",
        "!tar -zxf ../data/aclImdb_v1.tar.gz -C ../data\n",
        "imdb_dir = '/content/gdrive/MyDrive/ML Assignment 3/aclImdb'\n",
        "train_dir = '/content/gdrive/MyDrive/ML Assignment 3/aclImdb/train'\n",
        "#train_dir = os.path.join(imdb_dir, 'train')\n",
        "\n",
        "labels = []\n",
        "texts = []\n",
        "\n",
        "for label_type in ['neg', 'pos']:\n",
        "    dir_name = os.path.join(train_dir, label_type)\n",
        "    for fname in os.listdir(dir_name):\n",
        "        if fname[-4:] == '.txt':\n",
        "            f = open(os.path.join(dir_name, fname))\n",
        "            texts.append(f.read())\n",
        "            f.close()\n",
        "            if label_type == 'neg':\n",
        "                labels.append(0)\n",
        "            else:\n",
        "                labels.append(1)"
      ],
      "metadata": {
        "colab": {
          "base_uri": "https://localhost:8080/",
          "height": 0
        },
        "id": "ZcbV8N_d2VoC",
        "outputId": "677e65c2-2fd3-48e2-caf2-41099d108364"
      },
      "execution_count": 47,
      "outputs": [
        {
          "output_type": "stream",
          "name": "stdout",
          "text": [
            "mkdir: cannot create directory ‘../data’: File exists\n",
            "--2023-04-16 19:11:07--  http://ai.stanford.edu/~amaas/data/sentiment/aclImdb_v1.tar.gz\n",
            "Resolving ai.stanford.edu (ai.stanford.edu)... 171.64.68.10\n",
            "Connecting to ai.stanford.edu (ai.stanford.edu)|171.64.68.10|:80... connected.\n",
            "HTTP request sent, awaiting response... 200 OK\n",
            "Length: 84125825 (80M) [application/x-gzip]\n",
            "Saving to: ‘../data/aclImdb_v1.tar.gz’\n",
            "\n",
            "../data/aclImdb_v1. 100%[===================>]  80.23M  67.1MB/s    in 1.2s    \n",
            "\n",
            "2023-04-16 19:11:08 (67.1 MB/s) - ‘../data/aclImdb_v1.tar.gz’ saved [84125825/84125825]\n",
            "\n"
          ]
        }
      ]
    },
    {
      "cell_type": "code",
      "source": [
        "from keras.preprocessing.text import Tokenizer\n",
        "from keras.utils.data_utils import pad_sequences\n",
        "#from keras.preprocessing.sequence import pad_sequences\n",
        "import numpy as np\n",
        "\n",
        "maxlen = 150  # We will cut reviews after 150 words\n",
        "training_samples = 100  # We will be training on 100 samples\n",
        "validation_samples = 10000  # We will be validating on 10000 samples\n",
        "max_words = 10000  # We will only consider the top 10,000 words in the dataset\n",
        "\n",
        "tokenizer = Tokenizer(num_words=max_words)\n",
        "tokenizer.fit_on_texts(texts)\n",
        "sequences = tokenizer.texts_to_sequences(texts)\n",
        "\n",
        "word_index = tokenizer.word_index\n",
        "print('Found %s unique tokens.' % len(word_index))\n",
        "\n",
        "data = pad_sequences(sequences, maxlen=maxlen)\n",
        "\n",
        "labels = np.asarray(labels)\n",
        "print('Shape of data tensor:', data.shape)\n",
        "print('Shape of label tensor:', labels.shape)\n",
        "\n",
        "# Split the data into a training set and a validation set\n",
        "# But first, shuffle the data, since we started from data\n",
        "# where sample are ordered (all negative first, then all positive).\n",
        "indices = np.arange(data.shape[0])\n",
        "np.random.shuffle(indices)\n",
        "data = data[indices]\n",
        "labels = labels[indices]\n",
        "\n",
        "x_train = data[:training_samples]\n",
        "y_train = labels[:training_samples]\n",
        "x_val = data[training_samples: training_samples + validation_samples]\n",
        "y_val = labels[training_samples: training_samples + validation_samples]"
      ],
      "metadata": {
        "colab": {
          "base_uri": "https://localhost:8080/",
          "height": 0
        },
        "id": "Qi3petto6LWv",
        "outputId": "1a772d61-9100-483a-dc6b-5e32c96b9d7e"
      },
      "execution_count": 48,
      "outputs": [
        {
          "output_type": "stream",
          "name": "stdout",
          "text": [
            "Found 88582 unique tokens.\n",
            "Shape of data tensor: (25000, 150)\n",
            "Shape of label tensor: (25000,)\n"
          ]
        }
      ]
    },
    {
      "cell_type": "code",
      "source": [
        "import os\n",
        "import numpy as np\n",
        "from keras.preprocessing.text import Tokenizer\n",
        "from keras.utils.data_utils import pad_sequences\n",
        "glove_dir = '/content/gdrive/MyDrive/ML Assignment 3/glove6B'\n",
        "\n",
        "embeddings_index = {}\n",
        "f = open(os.path.join(glove_dir, 'glove.6B.100d.txt'))\n",
        "for line in f:\n",
        "    values = line.split()\n",
        "    word = values[0]\n",
        "    coefs = np.asarray(values[1:], dtype='float32')\n",
        "    embeddings_index[word] = coefs\n",
        "f.close()\n",
        "\n",
        "print('Found %s word vectors.' % len(embeddings_index))"
      ],
      "metadata": {
        "colab": {
          "base_uri": "https://localhost:8080/",
          "height": 0
        },
        "id": "KVxGgj-h9vxc",
        "outputId": "cf6a8042-a4d1-42b2-d553-dfef96ea86ac"
      },
      "execution_count": 49,
      "outputs": [
        {
          "output_type": "stream",
          "name": "stdout",
          "text": [
            "Found 400001 word vectors.\n"
          ]
        }
      ]
    },
    {
      "cell_type": "code",
      "source": [
        "from keras.preprocessing.text import Tokenizer\n",
        "from keras.utils.data_utils import pad_sequences\n",
        "embedding_dim = 100\n",
        "max_words = 10000\n",
        "tokenizer = Tokenizer(num_words=max_words)\n",
        " \n",
        "word_index = tokenizer.word_index\n",
        "print('Found %s unique tokens.' % len(word_index))\n",
        "embedding_matrix = np.zeros((max_words, embedding_dim))\n",
        "for word, i in word_index.items():\n",
        "    embedding_vector = embeddings_index.get(word)\n",
        "    if i < max_words:\n",
        "        if embedding_vector is not None:\n",
        "            # Words not found in embedding index will be all-zeros.\n",
        "            embedding_matrix[i] = embedding_vector"
      ],
      "metadata": {
        "colab": {
          "base_uri": "https://localhost:8080/",
          "height": 0
        },
        "id": "dJxvUXRlANAC",
        "outputId": "62a462b8-dee5-464d-ca04-b76eddd1e9ed"
      },
      "execution_count": 50,
      "outputs": [
        {
          "output_type": "stream",
          "name": "stdout",
          "text": [
            "Found 0 unique tokens.\n"
          ]
        }
      ]
    },
    {
      "cell_type": "code",
      "source": [
        "from keras.models import Sequential\n",
        "from keras.layers import Embedding, Flatten, Dense\n",
        "maxlen = 150\n",
        "model = Sequential()\n",
        "model.add(Embedding(max_words, embedding_dim, input_length=maxlen))\n",
        "model.add(Flatten())\n",
        "model.add(Dense(32, activation='relu'))\n",
        "model.add(Dense(1, activation='sigmoid'))\n",
        "model.summary()"
      ],
      "metadata": {
        "colab": {
          "base_uri": "https://localhost:8080/",
          "height": 0
        },
        "id": "CSedMD_AA8_V",
        "outputId": "17fc3ddb-55c4-4bad-8ced-1856de3f8c75"
      },
      "execution_count": 51,
      "outputs": [
        {
          "output_type": "stream",
          "name": "stdout",
          "text": [
            "Model: \"sequential_9\"\n",
            "_________________________________________________________________\n",
            " Layer (type)                Output Shape              Param #   \n",
            "=================================================================\n",
            " embedding_12 (Embedding)    (None, 150, 100)          1000000   \n",
            "                                                                 \n",
            " flatten_9 (Flatten)         (None, 15000)             0         \n",
            "                                                                 \n",
            " dense_11 (Dense)            (None, 32)                480032    \n",
            "                                                                 \n",
            " dense_12 (Dense)            (None, 1)                 33        \n",
            "                                                                 \n",
            "=================================================================\n",
            "Total params: 1,480,065\n",
            "Trainable params: 1,480,065\n",
            "Non-trainable params: 0\n",
            "_________________________________________________________________\n"
          ]
        }
      ]
    },
    {
      "cell_type": "code",
      "source": [
        "model.layers[0].set_weights([embedding_matrix])\n",
        "model.layers[0].trainable = False"
      ],
      "metadata": {
        "id": "m1YKyH5HBHTd"
      },
      "execution_count": 52,
      "outputs": []
    },
    {
      "cell_type": "code",
      "source": [
        "model.compile(optimizer='rmsprop',\n",
        "              loss='binary_crossentropy',\n",
        "              metrics=['acc'])\n",
        "history = model.fit(x_train, y_train,\n",
        "                    epochs=10,\n",
        "                    batch_size=32,\n",
        "                    validation_data=(x_val, y_val))\n",
        "model.save_weights('pre_trained_glove_model.h5')"
      ],
      "metadata": {
        "colab": {
          "base_uri": "https://localhost:8080/",
          "height": 0
        },
        "id": "d-3nphPCBK4Y",
        "outputId": "902f0003-b9bd-41ea-c579-f2db38ced965"
      },
      "execution_count": 53,
      "outputs": [
        {
          "output_type": "stream",
          "name": "stdout",
          "text": [
            "Epoch 1/10\n",
            "4/4 [==============================] - 2s 353ms/step - loss: 0.6929 - acc: 0.5900 - val_loss: 0.6931 - val_acc: 0.5060\n",
            "Epoch 2/10\n",
            "4/4 [==============================] - 1s 196ms/step - loss: 0.6923 - acc: 0.5900 - val_loss: 0.6931 - val_acc: 0.5060\n",
            "Epoch 3/10\n",
            "4/4 [==============================] - 1s 218ms/step - loss: 0.6921 - acc: 0.5900 - val_loss: 0.6931 - val_acc: 0.5060\n",
            "Epoch 4/10\n",
            "4/4 [==============================] - 1s 218ms/step - loss: 0.6921 - acc: 0.5900 - val_loss: 0.6931 - val_acc: 0.5060\n",
            "Epoch 5/10\n",
            "4/4 [==============================] - 1s 290ms/step - loss: 0.6919 - acc: 0.5900 - val_loss: 0.6931 - val_acc: 0.5060\n",
            "Epoch 6/10\n",
            "4/4 [==============================] - 1s 289ms/step - loss: 0.6918 - acc: 0.5900 - val_loss: 0.6931 - val_acc: 0.5060\n",
            "Epoch 7/10\n",
            "4/4 [==============================] - 1s 290ms/step - loss: 0.6916 - acc: 0.5900 - val_loss: 0.6931 - val_acc: 0.5060\n",
            "Epoch 8/10\n",
            "4/4 [==============================] - 1s 437ms/step - loss: 0.6914 - acc: 0.5900 - val_loss: 0.6931 - val_acc: 0.5060\n",
            "Epoch 9/10\n",
            "4/4 [==============================] - 1s 219ms/step - loss: 0.6912 - acc: 0.5900 - val_loss: 0.6931 - val_acc: 0.5060\n",
            "Epoch 10/10\n",
            "4/4 [==============================] - 1s 219ms/step - loss: 0.6910 - acc: 0.5900 - val_loss: 0.6931 - val_acc: 0.5060\n"
          ]
        }
      ]
    },
    {
      "cell_type": "code",
      "source": [
        "import matplotlib.pyplot as plt\n",
        "\n",
        "acc = history.history['acc']\n",
        "val_acc = history.history['val_acc']\n",
        "loss = history.history['loss']\n",
        "val_loss = history.history['val_loss']\n",
        "\n",
        "epochs = range(1, len(acc) + 1)\n",
        "\n",
        "plt.plot(epochs, acc, 'bo', label='Training acc')\n",
        "plt.plot(epochs, val_acc, 'b', label='Validation acc')\n",
        "plt.title('Training and validation accuracy')\n",
        "plt.legend()\n",
        "\n",
        "plt.figure()\n",
        "\n",
        "plt.plot(epochs, loss, 'bo', label='Training loss')\n",
        "plt.plot(epochs, val_loss, 'b', label='Validation loss')\n",
        "plt.title('Training and validation loss')\n",
        "plt.legend()\n",
        "\n",
        "plt.show()"
      ],
      "metadata": {
        "id": "IGrnoBn0YVd8",
        "outputId": "dd20aa9b-4357-4cbc-f35e-7c52f9d2a6eb",
        "colab": {
          "base_uri": "https://localhost:8080/",
          "height": 887
        }
      },
      "execution_count": 54,
      "outputs": [
        {
          "output_type": "display_data",
          "data": {
            "text/plain": [
              "<Figure size 640x480 with 1 Axes>"
            ],
            "image/png": "[encoded data removed]"
          },
          "metadata": {}
        },
        {
          "output_type": "display_data",
          "data": {
            "text/plain": [
              "<Figure size 640x480 with 1 Axes>"
            ],
            "image/png": "[encoded data removed]"
          },
          "metadata": {}
        }
      ]
    },
    {
      "cell_type": "code",
      "source": [
        "test_dir = os.path.join(imdb_dir, 'test')\n",
        "\n",
        "labels = []\n",
        "texts = []\n",
        "\n",
        "for label_type in ['neg', 'pos']:\n",
        "    dir_name = os.path.join(test_dir, label_type)\n",
        "    for fname in sorted(os.listdir(dir_name)):\n",
        "        if fname[-4:] == '.txt':\n",
        "            f = open(os.path.join(dir_name, fname))\n",
        "            texts.append(f.read())\n",
        "            f.close()\n",
        "            if label_type == 'neg':\n",
        "                labels.append(0)\n",
        "            else:\n",
        "                labels.append(1)\n",
        "\n",
        "sequences = tokenizer.texts_to_sequences(texts)\n",
        "x_test = pad_sequences(sequences, maxlen=maxlen)\n",
        "y_test = np.asarray(labels)"
      ],
      "metadata": {
        "id": "luJVS3gzYhT4"
      },
      "execution_count": 55,
      "outputs": []
    },
    {
      "cell_type": "code",
      "source": [
        "\n",
        "model.load_weights('pre_trained_glove_model.h5')\n",
        "model.evaluate(x_test, y_test)"
      ],
      "metadata": {
        "id": "PS5SxYHWazya",
        "outputId": "85ca6a21-8e83-462e-b70d-9b8076880dcd",
        "colab": {
          "base_uri": "https://localhost:8080/",
          "height": 0
        }
      },
      "execution_count": 56,
      "outputs": [
        {
          "output_type": "stream",
          "name": "stdout",
          "text": [
            "785/785 [==============================] - 2s 3ms/step - loss: 0.6933 - acc: 0.4979\n"
          ]
        },
        {
          "output_type": "execute_result",
          "data": {
            "text/plain": [
              "[0.6932905316352844, 0.49794843792915344]"
            ]
          },
          "metadata": {},
          "execution_count": 56
        }
      ]
    },
    {
      "cell_type": "markdown",
      "source": [
        "\n",
        "**Hypertuning Embedding Layer 1 - 1000 Samples**\n"
      ],
      "metadata": {
        "id": "TuV7hnI5bAx6"
      }
    },
    {
      "cell_type": "code",
      "source": [
        "import keras\n",
        "keras.__version__"
      ],
      "metadata": {
        "id": "BC6FOtg-bH38",
        "outputId": "a5e0729b-b75a-4c00-887e-c443c630e3f5",
        "colab": {
          "base_uri": "https://localhost:8080/",
          "height": 35
        }
      },
      "execution_count": 57,
      "outputs": [
        {
          "output_type": "execute_result",
          "data": {
            "text/plain": [
              "'2.12.0'"
            ],
            "application/vnd.google.colaboratory.intrinsic+json": {
              "type": "string"
            }
          },
          "metadata": {},
          "execution_count": 57
        }
      ]
    },
    {
      "cell_type": "code",
      "source": [
        "from keras.layers import Embedding\n",
        "\n",
        "# The Embedding layer takes at least two arguments:\n",
        "# the number of possible tokens, here 1000 (1 + maximum word index),\n",
        "# and the dimensionality of the embeddings, here 64.\n",
        "embedding_layer = Embedding(1000, 64)"
      ],
      "metadata": {
        "id": "qrpM5hqHbNU7"
      },
      "execution_count": 58,
      "outputs": []
    },
    {
      "cell_type": "code",
      "source": [
        "from keras.datasets import imdb\n",
        "from keras import preprocessing\n",
        "from keras.utils.data_utils import pad_sequences\n",
        "\n",
        "# Number of words to consider as features\n",
        "max_features = 10000\n",
        "# Cut texts after this number of words \n",
        "# (among top max_features most common words)\n",
        "maxlen = 150\n",
        "\n",
        "# Load the data as lists of integers.\n",
        "(x_train, y_train), (x_test, y_test) = imdb.load_data(num_words=max_features)\n",
        "\n",
        "x_train = x_train[:1000]\n",
        "y_train = y_train[:1000]\n",
        "\n",
        "# This turns our lists of integers\n",
        "# into a 2D integer tensor of shape `(samples, maxlen)`\n",
        "x_train = keras.utils.pad_sequences(x_train, maxlen=maxlen)\n",
        "x_test = keras.utils.pad_sequences(x_test, maxlen=maxlen)"
      ],
      "metadata": {
        "id": "Lv9aKBodbQ4x"
      },
      "execution_count": 59,
      "outputs": []
    },
    {
      "cell_type": "code",
      "source": [],
      "metadata": {
        "id": "WzBfYdDncCqq"
      },
      "execution_count": 59,
      "outputs": []
    },
    {
      "cell_type": "code",
      "source": [
        "\n",
        "print(len(x_train))"
      ],
      "metadata": {
        "id": "UwlYvNM4bshK",
        "outputId": "9dcd5f75-ed31-4658-a763-ae12ec2dd886",
        "colab": {
          "base_uri": "https://localhost:8080/",
          "height": 0
        }
      },
      "execution_count": 60,
      "outputs": [
        {
          "output_type": "stream",
          "name": "stdout",
          "text": [
            "1000\n"
          ]
        }
      ]
    },
    {
      "cell_type": "code",
      "source": [
        "from keras.models import Sequential\n",
        "from keras.layers import Flatten, Dense\n",
        "\n",
        "model = Sequential()\n",
        "# We specify the maximum input length to our Embedding layer\n",
        "# so we can later flatten the embedded inputs\n",
        "model.add(Embedding(10000, 8, input_length=maxlen))\n",
        "# After the Embedding layer, \n",
        "# our activations have shape `(samples, maxlen, 8)`.\n",
        "\n",
        "# We flatten the 3D tensor of embeddings \n",
        "# into a 2D tensor of shape `(samples, maxlen * 8)`\n",
        "model.add(Flatten())\n",
        "\n",
        "# We add the classifier on top\n",
        "model.add(Dense(1, activation='sigmoid'))\n",
        "model.compile(optimizer='rmsprop', loss='binary_crossentropy', metrics=['acc'])\n",
        "model.summary()\n",
        "\n",
        "history = model.fit(x_train, y_train,\n",
        "                    epochs=10,\n",
        "                    batch_size=32,\n",
        "                    validation_split=0.2)"
      ],
      "metadata": {
        "id": "nada0vdebwkf",
        "outputId": "8821e613-cbcf-4c4d-99f0-cecc18de653e",
        "colab": {
          "base_uri": "https://localhost:8080/",
          "height": 0
        }
      },
      "execution_count": 61,
      "outputs": [
        {
          "output_type": "stream",
          "name": "stdout",
          "text": [
            "Model: \"sequential_10\"\n",
            "_________________________________________________________________\n",
            " Layer (type)                Output Shape              Param #   \n",
            "=================================================================\n",
            " embedding_14 (Embedding)    (None, 150, 8)            80000     \n",
            "                                                                 \n",
            " flatten_10 (Flatten)        (None, 1200)              0         \n",
            "                                                                 \n",
            " dense_13 (Dense)            (None, 1)                 1201      \n",
            "                                                                 \n",
            "=================================================================\n",
            "Total params: 81,201\n",
            "Trainable params: 81,201\n",
            "Non-trainable params: 0\n",
            "_________________________________________________________________\n",
            "Epoch 1/10\n",
            "25/25 [==============================] - 3s 110ms/step - loss: 0.6939 - acc: 0.5000 - val_loss: 0.6921 - val_acc: 0.5200\n",
            "Epoch 2/10\n",
            "25/25 [==============================] - 3s 127ms/step - loss: 0.6771 - acc: 0.7563 - val_loss: 0.6904 - val_acc: 0.5250\n",
            "Epoch 3/10\n",
            "25/25 [==============================] - 3s 105ms/step - loss: 0.6607 - acc: 0.8712 - val_loss: 0.6887 - val_acc: 0.5250\n",
            "Epoch 4/10\n",
            "25/25 [==============================] - 2s 73ms/step - loss: 0.6401 - acc: 0.9250 - val_loss: 0.6865 - val_acc: 0.5100\n",
            "Epoch 5/10\n",
            "25/25 [==============================] - 2s 67ms/step - loss: 0.6147 - acc: 0.9400 - val_loss: 0.6837 - val_acc: 0.5350\n",
            "Epoch 6/10\n",
            "25/25 [==============================] - 1s 53ms/step - loss: 0.5843 - acc: 0.9500 - val_loss: 0.6804 - val_acc: 0.5500\n",
            "Epoch 7/10\n",
            "25/25 [==============================] - 1s 40ms/step - loss: 0.5490 - acc: 0.9613 - val_loss: 0.6763 - val_acc: 0.5600\n",
            "Epoch 8/10\n",
            "25/25 [==============================] - 1s 41ms/step - loss: 0.5095 - acc: 0.9712 - val_loss: 0.6717 - val_acc: 0.5800\n",
            "Epoch 9/10\n",
            "25/25 [==============================] - 1s 31ms/step - loss: 0.4666 - acc: 0.9725 - val_loss: 0.6665 - val_acc: 0.5900\n",
            "Epoch 10/10\n",
            "25/25 [==============================] - 1s 44ms/step - loss: 0.4218 - acc: 0.9812 - val_loss: 0.6611 - val_acc: 0.6050\n"
          ]
        }
      ]
    },
    {
      "cell_type": "code",
      "source": [],
      "metadata": {
        "id": "B-QAvINbcER5"
      },
      "execution_count": 61,
      "outputs": []
    },
    {
      "cell_type": "markdown",
      "source": [
        "**800 Samples**"
      ],
      "metadata": {
        "id": "XVyi2jQzcE1A"
      }
    },
    {
      "cell_type": "code",
      "source": [
        "from keras.datasets import imdb\n",
        "from keras import preprocessing\n",
        "from keras.utils.data_utils import pad_sequences\n",
        "\n",
        "# Number of words to consider as features\n",
        "max_features = 10000\n",
        "# Cut texts after this number of words \n",
        "# (among top max_features most common words)\n",
        "maxlen = 150\n",
        "\n",
        "# Load the data as lists of integers.\n",
        "(x_train, y_train), (x_test, y_test) = imdb.load_data(num_words=max_features)\n",
        "\n",
        "x_train = x_train[:800]\n",
        "y_train = y_train[:800]\n",
        "\n",
        "# This turns our lists of integers\n",
        "# into a 2D integer tensor of shape `(samples, maxlen)`\n",
        "x_train = keras.utils.pad_sequences(x_train, maxlen=maxlen)\n",
        "x_test = keras.utils.pad_sequences(x_test, maxlen=maxlen)"
      ],
      "metadata": {
        "id": "v5fL5OY-cJds"
      },
      "execution_count": 62,
      "outputs": []
    },
    {
      "cell_type": "code",
      "source": [
        "print(len(x_train))\n"
      ],
      "metadata": {
        "id": "QtUZWIM4cgOD",
        "outputId": "f7b4e64c-214c-43b4-d5c5-6efd980a2339",
        "colab": {
          "base_uri": "https://localhost:8080/",
          "height": 0
        }
      },
      "execution_count": 63,
      "outputs": [
        {
          "output_type": "stream",
          "name": "stdout",
          "text": [
            "800\n"
          ]
        }
      ]
    },
    {
      "cell_type": "code",
      "source": [
        "from keras.models import Sequential\n",
        "from keras.layers import Flatten, Dense\n",
        "\n",
        "model = Sequential()\n",
        "# We specify the maximum input length to our Embedding layer\n",
        "# so we can later flatten the embedded inputs\n",
        "model.add(Embedding(10000, 8, input_length=maxlen))\n",
        "# After the Embedding layer, \n",
        "# our activations have shape `(samples, maxlen, 8)`.\n",
        "\n",
        "# We flatten the 3D tensor of embeddings \n",
        "# into a 2D tensor of shape `(samples, maxlen * 8)`\n",
        "model.add(Flatten())\n",
        "\n",
        "# We add the classifier on top\n",
        "model.add(Dense(1, activation='sigmoid'))\n",
        "model.compile(optimizer='rmsprop', loss='binary_crossentropy', metrics=['acc'])\n",
        "model.summary()\n",
        "\n",
        "history = model.fit(x_train, y_train,\n",
        "                    epochs=10,\n",
        "                    batch_size=32,\n",
        "                    validation_split=0.2)"
      ],
      "metadata": {
        "id": "LT4-q2IccdpG",
        "outputId": "9184863a-6ca3-451b-a829-9c6f4af35c76",
        "colab": {
          "base_uri": "https://localhost:8080/",
          "height": 0
        }
      },
      "execution_count": 64,
      "outputs": [
        {
          "output_type": "stream",
          "name": "stdout",
          "text": [
            "Model: \"sequential_11\"\n",
            "_________________________________________________________________\n",
            " Layer (type)                Output Shape              Param #   \n",
            "=================================================================\n",
            " embedding_15 (Embedding)    (None, 150, 8)            80000     \n",
            "                                                                 \n",
            " flatten_11 (Flatten)        (None, 1200)              0         \n",
            "                                                                 \n",
            " dense_14 (Dense)            (None, 1)                 1201      \n",
            "                                                                 \n",
            "=================================================================\n",
            "Total params: 81,201\n",
            "Trainable params: 81,201\n",
            "Non-trainable params: 0\n",
            "_________________________________________________________________\n",
            "Epoch 1/10\n",
            "20/20 [==============================] - 3s 107ms/step - loss: 0.6942 - acc: 0.4828 - val_loss: 0.6905 - val_acc: 0.5250\n",
            "Epoch 2/10\n",
            "20/20 [==============================] - 2s 99ms/step - loss: 0.6767 - acc: 0.7188 - val_loss: 0.6898 - val_acc: 0.5188\n",
            "Epoch 3/10\n",
            "20/20 [==============================] - 2s 84ms/step - loss: 0.6602 - acc: 0.8359 - val_loss: 0.6887 - val_acc: 0.5250\n",
            "Epoch 4/10\n",
            "20/20 [==============================] - 2s 123ms/step - loss: 0.6405 - acc: 0.8984 - val_loss: 0.6872 - val_acc: 0.5500\n",
            "Epoch 5/10\n",
            "20/20 [==============================] - 2s 96ms/step - loss: 0.6167 - acc: 0.9141 - val_loss: 0.6847 - val_acc: 0.5437\n",
            "Epoch 6/10\n",
            "20/20 [==============================] - 2s 77ms/step - loss: 0.5886 - acc: 0.9531 - val_loss: 0.6821 - val_acc: 0.5562\n",
            "Epoch 7/10\n",
            "20/20 [==============================] - 1s 54ms/step - loss: 0.5563 - acc: 0.9641 - val_loss: 0.6788 - val_acc: 0.5875\n",
            "Epoch 8/10\n",
            "20/20 [==============================] - 1s 44ms/step - loss: 0.5201 - acc: 0.9656 - val_loss: 0.6746 - val_acc: 0.5938\n",
            "Epoch 9/10\n",
            "20/20 [==============================] - 1s 33ms/step - loss: 0.4809 - acc: 0.9672 - val_loss: 0.6698 - val_acc: 0.6125\n",
            "Epoch 10/10\n",
            "20/20 [==============================] - 1s 21ms/step - loss: 0.4394 - acc: 0.9750 - val_loss: 0.6651 - val_acc: 0.6125\n"
          ]
        }
      ]
    },
    {
      "cell_type": "markdown",
      "source": [
        "**700 Samples**"
      ],
      "metadata": {
        "id": "VtgB6a-ucz7_"
      }
    },
    {
      "cell_type": "code",
      "source": [
        "from keras.datasets import imdb\n",
        "from keras import preprocessing\n",
        "\n",
        "# Number of words to consider as features\n",
        "max_features = 10000\n",
        "# Cut texts after this number of words \n",
        "# (among top max_features most common words)\n",
        "maxlen = 150\n",
        "\n",
        "# Load the data as lists of integers.\n",
        "(x_train, y_train), (x_test, y_test) = imdb.load_data(num_words=max_features)\n",
        "\n",
        "x_train = x_train[:700]\n",
        "y_train = y_train[:700]\n",
        "\n",
        "# This turns our lists of integers\n",
        "# into a 2D integer tensor of shape `(samples, maxlen)`\n",
        "x_train = keras.utils.pad_sequences(x_train, maxlen=maxlen)\n",
        "x_test = keras.utils.pad_sequences(x_test, maxlen=maxlen)"
      ],
      "metadata": {
        "id": "nCARtIxfc377"
      },
      "execution_count": 65,
      "outputs": []
    },
    {
      "cell_type": "code",
      "source": [
        "from keras.models import Sequential\n",
        "from keras.layers import Flatten, Dense\n",
        "\n",
        "model = Sequential()\n",
        "# We specify the maximum input length to our Embedding layer\n",
        "# so we can later flatten the embedded inputs\n",
        "model.add(Embedding(10000, 8, input_length=maxlen))\n",
        "# After the Embedding layer, \n",
        "# our activations have shape `(samples, maxlen, 8)`.\n",
        "\n",
        "# We flatten the 3D tensor of embeddings \n",
        "# into a 2D tensor of shape `(samples, maxlen * 8)`\n",
        "model.add(Flatten())\n",
        "\n",
        "# We add the classifier on top\n",
        "model.add(Dense(1, activation='sigmoid'))\n",
        "model.compile(optimizer='rmsprop', loss='binary_crossentropy', metrics=['acc'])\n",
        "model.summary()\n",
        "\n",
        "history = model.fit(x_train, y_train,\n",
        "                    epochs=10,\n",
        "                    batch_size=32,\n",
        "                    validation_split=0.2)"
      ],
      "metadata": {
        "id": "Z7lhQP4GdL7c",
        "outputId": "0ca8ebd4-25de-4ee6-eecb-f88a19c306cb",
        "colab": {
          "base_uri": "https://localhost:8080/",
          "height": 0
        }
      },
      "execution_count": 66,
      "outputs": [
        {
          "output_type": "stream",
          "name": "stdout",
          "text": [
            "Model: \"sequential_12\"\n",
            "_________________________________________________________________\n",
            " Layer (type)                Output Shape              Param #   \n",
            "=================================================================\n",
            " embedding_16 (Embedding)    (None, 150, 8)            80000     \n",
            "                                                                 \n",
            " flatten_12 (Flatten)        (None, 1200)              0         \n",
            "                                                                 \n",
            " dense_15 (Dense)            (None, 1)                 1201      \n",
            "                                                                 \n",
            "=================================================================\n",
            "Total params: 81,201\n",
            "Trainable params: 81,201\n",
            "Non-trainable params: 0\n",
            "_________________________________________________________________\n",
            "Epoch 1/10\n",
            "18/18 [==============================] - 2s 102ms/step - loss: 0.6926 - acc: 0.5089 - val_loss: 0.6962 - val_acc: 0.5071\n",
            "Epoch 2/10\n",
            "18/18 [==============================] - 2s 111ms/step - loss: 0.6747 - acc: 0.7482 - val_loss: 0.6970 - val_acc: 0.5071\n",
            "Epoch 3/10\n",
            "18/18 [==============================] - 2s 87ms/step - loss: 0.6588 - acc: 0.8607 - val_loss: 0.6974 - val_acc: 0.5214\n",
            "Epoch 4/10\n",
            "18/18 [==============================] - 2s 85ms/step - loss: 0.6399 - acc: 0.9018 - val_loss: 0.6983 - val_acc: 0.4857\n",
            "Epoch 5/10\n",
            "18/18 [==============================] - 2s 114ms/step - loss: 0.6179 - acc: 0.9339 - val_loss: 0.6994 - val_acc: 0.4857\n",
            "Epoch 6/10\n",
            "18/18 [==============================] - 2s 129ms/step - loss: 0.5920 - acc: 0.9357 - val_loss: 0.7002 - val_acc: 0.4929\n",
            "Epoch 7/10\n",
            "18/18 [==============================] - 1s 64ms/step - loss: 0.5626 - acc: 0.9482 - val_loss: 0.7005 - val_acc: 0.5214\n",
            "Epoch 8/10\n",
            "18/18 [==============================] - 1s 57ms/step - loss: 0.5296 - acc: 0.9571 - val_loss: 0.7011 - val_acc: 0.5214\n",
            "Epoch 9/10\n",
            "18/18 [==============================] - 1s 67ms/step - loss: 0.4943 - acc: 0.9571 - val_loss: 0.7017 - val_acc: 0.5214\n",
            "Epoch 10/10\n",
            "18/18 [==============================] - 1s 51ms/step - loss: 0.4572 - acc: 0.9607 - val_loss: 0.7023 - val_acc: 0.5143\n"
          ]
        }
      ]
    },
    {
      "cell_type": "markdown",
      "source": [
        "**900 Samples**"
      ],
      "metadata": {
        "id": "QND8x2Atdk4w"
      }
    },
    {
      "cell_type": "code",
      "source": [
        "from keras.datasets import imdb\n",
        "from keras import preprocessing\n",
        "\n",
        "# Number of words to consider as features\n",
        "max_features = 10000\n",
        "# Cut texts after this number of words \n",
        "# (among top max_features most common words)\n",
        "maxlen = 150\n",
        "\n",
        "# Load the data as lists of integers.\n",
        "(x_train, y_train), (x_test, y_test) = imdb.load_data(num_words=max_features)\n",
        "\n",
        "x_train = x_train[700:1600]\n",
        "y_train = y_train[700:1600]\n",
        "\n",
        "# This turns our lists of integers\n",
        "# into a 2D integer tensor of shape `(samples, maxlen)`\n",
        "x_train = keras.utils.pad_sequences(x_train, maxlen=maxlen)\n",
        "x_test = keras.utils.pad_sequences(x_test, maxlen=maxlen)"
      ],
      "metadata": {
        "id": "knldcm-0dn1U"
      },
      "execution_count": 67,
      "outputs": []
    },
    {
      "cell_type": "code",
      "source": [
        "from keras.models import Sequential\n",
        "from keras.layers import Flatten, Dense\n",
        "\n",
        "model = Sequential()\n",
        "# We specify the maximum input length to our Embedding layer\n",
        "# so we can later flatten the embedded inputs\n",
        "model.add(Embedding(10000, 8, input_length=maxlen))\n",
        "# After the Embedding layer, \n",
        "# our activations have shape `(samples, maxlen, 8)`.\n",
        "\n",
        "# We flatten the 3D tensor of embeddings \n",
        "# into a 2D tensor of shape `(samples, maxlen * 8)`\n",
        "model.add(Flatten())\n",
        "\n",
        "# We add the classifier on top\n",
        "model.add(Dense(1, activation='sigmoid'))\n",
        "model.compile(optimizer='rmsprop', loss='binary_crossentropy', metrics=['acc'])\n",
        "model.summary()\n",
        "\n",
        "history = model.fit(x_train, y_train,\n",
        "                    epochs=10,\n",
        "                    batch_size=32,\n",
        "                    validation_split=0.2)"
      ],
      "metadata": {
        "id": "FW6MVE_cdwnn",
        "outputId": "335c72d8-e8ab-4e5f-d772-6be3d47ac1c6",
        "colab": {
          "base_uri": "https://localhost:8080/",
          "height": 0
        }
      },
      "execution_count": 68,
      "outputs": [
        {
          "output_type": "stream",
          "name": "stdout",
          "text": [
            "Model: \"sequential_13\"\n",
            "_________________________________________________________________\n",
            " Layer (type)                Output Shape              Param #   \n",
            "=================================================================\n",
            " embedding_17 (Embedding)    (None, 150, 8)            80000     \n",
            "                                                                 \n",
            " flatten_13 (Flatten)        (None, 1200)              0         \n",
            "                                                                 \n",
            " dense_16 (Dense)            (None, 1)                 1201      \n",
            "                                                                 \n",
            "=================================================================\n",
            "Total params: 81,201\n",
            "Trainable params: 81,201\n",
            "Non-trainable params: 0\n",
            "_________________________________________________________________\n",
            "Epoch 1/10\n",
            "23/23 [==============================] - 3s 105ms/step - loss: 0.6948 - acc: 0.4750 - val_loss: 0.6949 - val_acc: 0.4556\n",
            "Epoch 2/10\n",
            "23/23 [==============================] - 2s 98ms/step - loss: 0.6780 - acc: 0.7486 - val_loss: 0.6957 - val_acc: 0.4778\n",
            "Epoch 3/10\n",
            "23/23 [==============================] - 2s 76ms/step - loss: 0.6620 - acc: 0.8833 - val_loss: 0.6969 - val_acc: 0.4556\n",
            "Epoch 4/10\n",
            "23/23 [==============================] - 1s 59ms/step - loss: 0.6423 - acc: 0.9486 - val_loss: 0.6978 - val_acc: 0.4611\n",
            "Epoch 5/10\n",
            "23/23 [==============================] - 1s 66ms/step - loss: 0.6181 - acc: 0.9792 - val_loss: 0.6987 - val_acc: 0.4500\n",
            "Epoch 6/10\n",
            "23/23 [==============================] - 3s 125ms/step - loss: 0.5889 - acc: 0.9903 - val_loss: 0.6997 - val_acc: 0.4667\n",
            "Epoch 7/10\n",
            "23/23 [==============================] - 1s 51ms/step - loss: 0.5553 - acc: 0.9972 - val_loss: 0.7013 - val_acc: 0.4667\n",
            "Epoch 8/10\n",
            "23/23 [==============================] - 1s 64ms/step - loss: 0.5175 - acc: 0.9972 - val_loss: 0.7030 - val_acc: 0.4611\n",
            "Epoch 9/10\n",
            "23/23 [==============================] - 2s 63ms/step - loss: 0.4765 - acc: 0.9972 - val_loss: 0.7041 - val_acc: 0.4556\n",
            "Epoch 10/10\n",
            "23/23 [==============================] - 1s 62ms/step - loss: 0.4335 - acc: 0.9972 - val_loss: 0.7056 - val_acc: 0.4500\n"
          ]
        }
      ]
    },
    {
      "cell_type": "markdown",
      "source": [
        " After using both an embedding layer and a pretrained layer, I was able to determine that the plain embedding layer was the best approach. Not only was it the simplest method, but it produced the greatest accuracy (86.3% instead of 50.6% for the pretrained layer). After running some hypertuned embedding layers, I was able to determine that the regular embedding layer does better than the pretrained layer once the sample size reaches 800 samples. Anything below 800 samples, it would be best to use a pretrained word embedding layer.  ran the test originally with 1000 samples and pretrained layer, I was able to determine that the only was it the simplest method, but it produced the Accuracy incrementally increased and decreased the number of samples until I reached an accuracy slightly above the pretrained’s accuracy of 45.00%. The pretrained technique is best suited for small samples sizes, but once the sample size reaches 900, the best method to use is the regular embedding layer. "
      ],
      "metadata": {
        "id": "b4qOFHxGhVXw"
      }
    }
  ]
}