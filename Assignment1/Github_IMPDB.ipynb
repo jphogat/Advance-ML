{
  "nbformat": 4,
  "nbformat_minor": 0,
  "metadata": {
    "colab": {
      "provenance": []
    },
    "kernelspec": {
      "name": "python3",
      "display_name": "Python 3"
    },
    "language_info": {
      "name": "python"
    }
  },
  "cells": [
    {
      "cell_type": "code",
      "execution_count": 1,
      "metadata": {
        "colab": {
          "base_uri": "https://localhost:8080/"
        },
        "id": "sD8t5gsQpRRr",
        "outputId": "a5c2dd06-c1ef-499d-cd90-d6ca0c42f3a9"
      },
      "outputs": [
        {
          "output_type": "stream",
          "name": "stdout",
          "text": [
            "Downloading data from https://storage.googleapis.com/tensorflow/tf-keras-datasets/imdb.npz\n",
            "17464789/17464789 [==============================] - 0s 0us/step\n"
          ]
        }
      ],
      "source": [
        "from tensorflow.keras.datasets import imdb\n",
        "(train_data, train_labels), (test_data, test_labels) = imdb.load_data(\n",
        "    num_words=10000)"
      ]
    },
    {
      "cell_type": "markdown",
      "source": [],
      "metadata": {
        "id": "PdaXs4bu-zpM"
      }
    },
    {
      "cell_type": "code",
      "source": [
        "train_data[0]\n",
        "train_labels[0]\n",
        "max([max(sequence) for sequence in train_data])"
      ],
      "metadata": {
        "colab": {
          "base_uri": "https://localhost:8080/"
        },
        "id": "eYlVbILLplPl",
        "outputId": "8b58574d-4ff8-4000-b197-078213d9f98e"
      },
      "execution_count": 2,
      "outputs": [
        {
          "output_type": "execute_result",
          "data": {
            "text/plain": [
              "9999"
            ]
          },
          "metadata": {},
          "execution_count": 2
        }
      ]
    },
    {
      "cell_type": "code",
      "source": [
        "word_index = imdb.get_word_index()\n",
        "reverse_word_index = dict(\n",
        "    [(value, key) for (key, value) in word_index.items()])\n",
        "decoded_review = \" \".join(\n",
        "    [reverse_word_index.get(i - 3, \"?\") for i in train_data[0]])"
      ],
      "metadata": {
        "colab": {
          "base_uri": "https://localhost:8080/"
        },
        "id": "uqIBCiijp06t",
        "outputId": "72b589ba-f37a-4209-e305-f7611b6a9da6"
      },
      "execution_count": 3,
      "outputs": [
        {
          "output_type": "stream",
          "name": "stdout",
          "text": [
            "Downloading data from https://storage.googleapis.com/tensorflow/tf-keras-datasets/imdb_word_index.json\n",
            "1641221/1641221 [==============================] - 0s 0us/step\n"
          ]
        }
      ]
    },
    {
      "cell_type": "code",
      "source": [
        "import numpy as np\n",
        "def vectorize_sequences(sequences, dimension=10000):\n",
        "    results = np.zeros((len(sequences), dimension))\n",
        "    for i, sequence in enumerate(sequences):\n",
        "        for j in sequence:\n",
        "            results[i, j] = 1.\n",
        "    return results\n",
        "x_train = vectorize_sequences(train_data)\n",
        "x_test = vectorize_sequences(test_data)\n",
        "x_train[0]\n",
        "y_train = np.asarray(train_labels).astype(\"float32\")\n",
        "y_test = np.asarray(test_labels).astype(\"float32\")"
      ],
      "metadata": {
        "id": "Cbqzl2BTp39e"
      },
      "execution_count": 4,
      "outputs": []
    },
    {
      "cell_type": "code",
      "source": [
        "#Model definition\n",
        "\n",
        "from tensorflow import keras\n",
        "from tensorflow.keras import layers\n",
        "\n",
        "model = keras.Sequential([\n",
        "    layers.Dense(64, activation=\"relu\"),\n",
        "    layers.Dropout(0.5, noise_shape=None, seed=None),\n",
        "   #layers.Dense(16, activation=\"relu\"),\n",
        "  #layers.Dense(8, activation=\"relu\"),\n",
        "    layers.Dense(1, activation=\"sigmoid\")\n",
        "])"
      ],
      "metadata": {
        "id": "yMAlAxfJp9-t"
      },
      "execution_count": 5,
      "outputs": []
    },
    {
      "cell_type": "code",
      "source": [
        "#Compiling the model\n",
        "\n",
        "\n",
        "model.compile(optimizer=\"rmsprop\",\n",
        "              loss=\"binary_crossentropy\",\n",
        "              metrics=[\"accuracy\"])"
      ],
      "metadata": {
        "id": "zqFqtagBqL4J"
      },
      "execution_count": 6,
      "outputs": []
    },
    {
      "cell_type": "markdown",
      "source": [
        "Validating your approach\n",
        "\n",
        "\n",
        "Setting aside a validation set\n",
        "\n",
        "---\n",
        "\n"
      ],
      "metadata": {
        "id": "kzHJHmTcqY9F"
      }
    },
    {
      "cell_type": "code",
      "source": [
        "x_val = x_train[:10000]\n",
        "partial_x_train = x_train[10000:]\n",
        "y_val = y_train[:10000]\n",
        "partial_y_train = y_train[10000:]"
      ],
      "metadata": {
        "id": "Af6pbx2HqS-Y"
      },
      "execution_count": 7,
      "outputs": []
    },
    {
      "cell_type": "markdown",
      "source": [
        "Training your model\n",
        "\n"
      ],
      "metadata": {
        "id": "0lzvA9LHqiXz"
      }
    },
    {
      "cell_type": "code",
      "source": [
        "history = model.fit(partial_x_train,\n",
        "                    partial_y_train,\n",
        "                    epochs=20,\n",
        "                    batch_size=512,\n",
        "                    validation_data=(x_val, y_val))\n",
        "history_dict = history.history\n",
        "history_dict.keys()"
      ],
      "metadata": {
        "colab": {
          "base_uri": "https://localhost:8080/"
        },
        "id": "XG3EJv6bqfua",
        "outputId": "7bc239a6-70f6-45fa-83c4-003af0c4135d"
      },
      "execution_count": 8,
      "outputs": [
        {
          "output_type": "stream",
          "name": "stdout",
          "text": [
            "Epoch 1/20\n",
            "30/30 [==============================] - 4s 90ms/step - loss: 0.5165 - accuracy: 0.7573 - val_loss: 0.3889 - val_accuracy: 0.8471\n",
            "Epoch 2/20\n",
            "30/30 [==============================] - 3s 107ms/step - loss: 0.3274 - accuracy: 0.8759 - val_loss: 0.3174 - val_accuracy: 0.8751\n",
            "Epoch 3/20\n",
            "30/30 [==============================] - 2s 67ms/step - loss: 0.2659 - accuracy: 0.9030 - val_loss: 0.2821 - val_accuracy: 0.8914\n",
            "Epoch 4/20\n",
            "30/30 [==============================] - 2s 62ms/step - loss: 0.2244 - accuracy: 0.9192 - val_loss: 0.2894 - val_accuracy: 0.8812\n",
            "Epoch 5/20\n",
            "30/30 [==============================] - 2s 65ms/step - loss: 0.1976 - accuracy: 0.9313 - val_loss: 0.2723 - val_accuracy: 0.8887\n",
            "Epoch 6/20\n",
            "30/30 [==============================] - 2s 70ms/step - loss: 0.1740 - accuracy: 0.9399 - val_loss: 0.2739 - val_accuracy: 0.8875\n",
            "Epoch 7/20\n",
            "30/30 [==============================] - 2s 70ms/step - loss: 0.1558 - accuracy: 0.9461 - val_loss: 0.2801 - val_accuracy: 0.8856\n",
            "Epoch 8/20\n",
            "30/30 [==============================] - 3s 101ms/step - loss: 0.1417 - accuracy: 0.9511 - val_loss: 0.2797 - val_accuracy: 0.8879\n",
            "Epoch 9/20\n",
            "30/30 [==============================] - 2s 71ms/step - loss: 0.1265 - accuracy: 0.9576 - val_loss: 0.3035 - val_accuracy: 0.8838\n",
            "Epoch 10/20\n",
            "30/30 [==============================] - 2s 63ms/step - loss: 0.1126 - accuracy: 0.9631 - val_loss: 0.2945 - val_accuracy: 0.8860\n",
            "Epoch 11/20\n",
            "30/30 [==============================] - 2s 65ms/step - loss: 0.1009 - accuracy: 0.9677 - val_loss: 0.2987 - val_accuracy: 0.8829\n",
            "Epoch 12/20\n",
            "30/30 [==============================] - 2s 63ms/step - loss: 0.0936 - accuracy: 0.9709 - val_loss: 0.3305 - val_accuracy: 0.8776\n",
            "Epoch 13/20\n",
            "30/30 [==============================] - 2s 70ms/step - loss: 0.0817 - accuracy: 0.9757 - val_loss: 0.3508 - val_accuracy: 0.8714\n",
            "Epoch 14/20\n",
            "30/30 [==============================] - 3s 111ms/step - loss: 0.0741 - accuracy: 0.9790 - val_loss: 0.3317 - val_accuracy: 0.8837\n",
            "Epoch 15/20\n",
            "30/30 [==============================] - 2s 63ms/step - loss: 0.0671 - accuracy: 0.9811 - val_loss: 0.3423 - val_accuracy: 0.8817\n",
            "Epoch 16/20\n",
            "30/30 [==============================] - 2s 65ms/step - loss: 0.0584 - accuracy: 0.9853 - val_loss: 0.3653 - val_accuracy: 0.8800\n",
            "Epoch 17/20\n",
            "30/30 [==============================] - 2s 69ms/step - loss: 0.0545 - accuracy: 0.9849 - val_loss: 0.3642 - val_accuracy: 0.8786\n",
            "Epoch 18/20\n",
            "30/30 [==============================] - 2s 64ms/step - loss: 0.0482 - accuracy: 0.9885 - val_loss: 0.3807 - val_accuracy: 0.8810\n",
            "Epoch 19/20\n",
            "30/30 [==============================] - 2s 63ms/step - loss: 0.0437 - accuracy: 0.9895 - val_loss: 0.3855 - val_accuracy: 0.8805\n",
            "Epoch 20/20\n",
            "30/30 [==============================] - 3s 100ms/step - loss: 0.0391 - accuracy: 0.9919 - val_loss: 0.4053 - val_accuracy: 0.8810\n"
          ]
        },
        {
          "output_type": "execute_result",
          "data": {
            "text/plain": [
              "dict_keys(['loss', 'accuracy', 'val_loss', 'val_accuracy'])"
            ]
          },
          "metadata": {},
          "execution_count": 8
        }
      ]
    },
    {
      "cell_type": "markdown",
      "source": [
        "Plotting the training and validation loss\n",
        "\n"
      ],
      "metadata": {
        "id": "FI82_IWPqyOa"
      }
    },
    {
      "cell_type": "code",
      "source": [
        "import matplotlib.pyplot as plt\n",
        "history_dict = history.history\n",
        "loss_values = history_dict[\"loss\"]\n",
        "val_loss_values = history_dict[\"val_loss\"]\n",
        "epochs = range(1, len(loss_values) + 1)\n",
        "plt.plot(epochs, loss_values, \"bo\", label=\"Training loss\")\n",
        "plt.plot(epochs, val_loss_values, \"b\", label=\"Validation loss\")\n",
        "plt.title(\"Training and validation loss\")\n",
        "plt.xlabel(\"Epochs\")\n",
        "plt.ylabel(\"Loss\")\n",
        "plt.legend()\n",
        "plt.show()"
      ],
      "metadata": {
        "colab": {
          "base_uri": "https://localhost:8080/",
          "height": 295
        },
        "id": "7dBASES5qs61",
        "outputId": "7bd6007d-4fd0-42ab-9eac-0894fbda5e42"
      },
      "execution_count": 9,
      "outputs": [
        {
          "output_type": "display_data",
          "data": {
            "text/plain": [
              "<Figure size 432x288 with 1 Axes>"
            ],
            "image/png": "[encoded data removed]"
          },
          "metadata": {
            "needs_background": "light"
          }
        }
      ]
    },
    {
      "cell_type": "markdown",
      "source": [
        "We can clearly seethat there is divergence in the training and validation set.\n",
        "The loss keep on inceasing when validation set is introduced. This is a clear indication that the model has overfit the training set."
      ],
      "metadata": {
        "id": "Ee6K9UT8mKnb"
      }
    },
    {
      "cell_type": "markdown",
      "source": [
        "Plotting the training and validation accuracy\n",
        "\n"
      ],
      "metadata": {
        "id": "fZNJa3HCqspZ"
      }
    },
    {
      "cell_type": "code",
      "source": [
        "plt.clf()\n",
        "acc = history_dict[\"accuracy\"]\n",
        "val_acc = history_dict[\"val_accuracy\"]\n",
        "plt.plot(epochs, acc, \"bo\", label=\"Training acc\")\n",
        "plt.plot(epochs, val_acc, \"b\", label=\"Validation acc\")\n",
        "plt.title(\"Training and validation accuracy\")\n",
        "plt.xlabel(\"Epochs\")\n",
        "plt.ylabel(\"Accuracy\")\n",
        "plt.legend()\n",
        "plt.show()"
      ],
      "metadata": {
        "colab": {
          "base_uri": "https://localhost:8080/",
          "height": 295
        },
        "id": "p7Z180xPq9Bq",
        "outputId": "c673f5b4-549d-4bbb-9e64-1c0ece914bb2"
      },
      "execution_count": 10,
      "outputs": [
        {
          "output_type": "display_data",
          "data": {
            "text/plain": [
              "<Figure size 432x288 with 1 Axes>"
            ],
            "image/png": "[encoded data removed]"
          },
          "metadata": {
            "needs_background": "light"
          }
        }
      ]
    },
    {
      "cell_type": "markdown",
      "source": [
        "This further confirms that the model overfits the training dataset. The Accuracy of training dataset is close to one and the acuracy of validation set is close to 87%. The best way to address is to perform regularization."
      ],
      "metadata": {
        "id": "KKOR8vQ-mGiS"
      }
    },
    {
      "cell_type": "markdown",
      "source": [],
      "metadata": {
        "id": "1SGKDCoZnbo8"
      }
    },
    {
      "cell_type": "markdown",
      "source": [
        "#Retraining a model from scratch\n",
        "\n"
      ],
      "metadata": {
        "id": "574-TMDBrB6m"
      }
    },
    {
      "cell_type": "code",
      "source": [
        "model = keras.Sequential([\n",
        "    layers.Dense(64, activation=\"tanh\"),\n",
        "  # layers.Dense(16, activation=\"relu\"),\n",
        "  # layers.Dense(8, activation=\"relu\"),\n",
        "    layers.Dropout(0.5, noise_shape=None, seed=None),\n",
        "    layers.Dense(1, activation=\"sigmoid\")\n",
        "])\n",
        "\n",
        "model.compile(optimizer=\"rmsprop\",\n",
        "              loss=\"binary_crossentropy\",\n",
        "              metrics=[\"accuracy\"])\n",
        "model.fit(x_train, y_train, epochs=4, batch_size=512)\n",
        "results = model.evaluate(x_test, y_test)"
      ],
      "metadata": {
        "colab": {
          "base_uri": "https://localhost:8080/"
        },
        "id": "ZOcyN1uRrBhO",
        "outputId": "76efba42-ba9d-408e-fd16-d7c89ae2f161"
      },
      "execution_count": 11,
      "outputs": [
        {
          "output_type": "stream",
          "name": "stdout",
          "text": [
            "Epoch 1/4\n",
            "49/49 [==============================] - 4s 67ms/step - loss: 0.4371 - accuracy: 0.8215\n",
            "Epoch 2/4\n",
            "49/49 [==============================] - 2s 50ms/step - loss: 0.2708 - accuracy: 0.8996\n",
            "Epoch 3/4\n",
            "49/49 [==============================] - 2s 50ms/step - loss: 0.2278 - accuracy: 0.9125\n",
            "Epoch 4/4\n",
            "49/49 [==============================] - 2s 49ms/step - loss: 0.2000 - accuracy: 0.9248\n",
            "782/782 [==============================] - 4s 4ms/step - loss: 0.2791 - accuracy: 0.8874\n"
          ]
        }
      ]
    },
    {
      "cell_type": "code",
      "source": [
        "#results = model.evaluate(x_test, y_test)\n",
        "results"
      ],
      "metadata": {
        "id": "geF7jzfhD3aV",
        "outputId": "1a9cb920-d391-479d-bede-a6411a09fc1a",
        "colab": {
          "base_uri": "https://localhost:8080/"
        }
      },
      "execution_count": 12,
      "outputs": [
        {
          "output_type": "execute_result",
          "data": {
            "text/plain": [
              "[0.279133677482605, 0.887440025806427]"
            ]
          },
          "metadata": {},
          "execution_count": 12
        }
      ]
    },
    {
      "cell_type": "markdown",
      "source": [
        "\n",
        "**Using a trained model to generate predictions on new data**"
      ],
      "metadata": {
        "id": "Fa8lqPchuF-e"
      }
    },
    {
      "cell_type": "code",
      "source": [
        "model.predict(x_test)\n"
      ],
      "metadata": {
        "colab": {
          "base_uri": "https://localhost:8080/",
          "height": 0
        },
        "id": "K9Zo4hu8uFp5",
        "outputId": "e731edb2-fd76-43a4-e136-679c90013637"
      },
      "execution_count": 38,
      "outputs": [
        {
          "output_type": "stream",
          "name": "stdout",
          "text": [
            "782/782 [==============================] - 2s 2ms/step\n"
          ]
        },
        {
          "output_type": "execute_result",
          "data": {
            "text/plain": [
              "array([[0.22106166],\n",
              "       [0.9995924 ],\n",
              "       [0.7526424 ],\n",
              "       ...,\n",
              "       [0.08923885],\n",
              "       [0.09691383],\n",
              "       [0.53091305]], dtype=float32)"
            ]
          },
          "metadata": {},
          "execution_count": 38
        }
      ]
    },
    {
      "cell_type": "code",
      "source": [
        "str(history)"
      ],
      "metadata": {
        "id": "IAGHuVwNEDd_",
        "outputId": "127dbe48-eab0-4a69-cff2-768a83aad199",
        "colab": {
          "base_uri": "https://localhost:8080/",
          "height": 35
        }
      },
      "execution_count": 16,
      "outputs": [
        {
          "output_type": "execute_result",
          "data": {
            "text/plain": [
              "'<keras.callbacks.History object at 0x7fb6890633d0>'"
            ],
            "application/vnd.google.colaboratory.intrinsic+json": {
              "type": "string"
            }
          },
          "metadata": {},
          "execution_count": 16
        }
      ]
    }
  ]
}